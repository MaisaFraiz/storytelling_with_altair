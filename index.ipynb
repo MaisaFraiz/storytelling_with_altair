{
 "cells": [
  {
   "cell_type": "markdown",
   "metadata": {},
   "source": [
    "# Storytelling with Data! in Altair"
   ]
  },
  {
   "cell_type": "markdown",
   "metadata": {},
   "source": [
    "by Maisa de Oliveira Fraiz"
   ]
  },
  {
   "cell_type": "markdown",
   "metadata": {},
   "source": [
    "## Introduction\n",
    "\n",
    "This project aims to replicate the examples from Cole Nussbaumer's book, \"Storytelling with Data - Let's Practice!\", using `Python Altair`. Our primary objective is to document the reasoning behind the modifications proposed by the author, while also highlighting the challenges that arise when transitioning from the book's Excel-based approach to programming in a different software environment.\n",
    "\n",
    "`Altair` was selected for this project due to its declarative syntax, interactivity, grammar of graphics, and compatibility with `Streamlit` and other web formatting tools, while within the user-friendly Python environment. Anticipated challenges include the comparatively smaller documentation and development community of Altair compared to more established libraries like `Matplotlib`, `Seaborn`, or `Plotly`. Furthermore, tasks that might appear straightforward in Excel may require multiple iterations to translate effectively into the language.\n"
   ]
  },
  {
   "cell_type": "markdown",
   "metadata": {},
   "source": [
    "## Imports"
   ]
  },
  {
   "cell_type": "code",
   "execution_count": 1,
   "metadata": {},
   "outputs": [],
   "source": [
    "# for data manipulation and visualization\n",
    "import pandas as pd\n",
    "import numpy as np\n",
    "import altair as alt\n",
    "\n",
    "# for converting .ipynb into .html\n",
    "import nbconvert\n",
    "import nbformat"
   ]
  },
  {
   "cell_type": "markdown",
   "metadata": {},
   "source": [
    "#### Cell to create the .html"
   ]
  },
  {
   "cell_type": "code",
   "execution_count": 13,
   "metadata": {},
   "outputs": [],
   "source": [
    "import nbconvert\n",
    "import nbformat\n",
    "\n",
    "with open('index.ipynb') as nb_file:\n",
    "    nb_contents = nb_file.read()\n",
    "\n",
    "# Convert using the ordinary exporter\n",
    "notebook = nbformat.reads(nb_contents, as_version=4)\n",
    "\n",
    "# HTML Export\n",
    "html_exporter = nbconvert.HTMLExporter()\n",
    "body, res = html_exporter.from_notebook_node(notebook)\n",
    "\n",
    "# Create a dict mapping all image attachments to their base64 representations\n",
    "images = {}\n",
    "for cell in notebook['cells']:\n",
    "    if 'attachments' in cell:\n",
    "        attachments = cell['attachments']\n",
    "        for filename, attachment in attachments.items():\n",
    "            for mime, base64 in attachment.items():\n",
    "                images[f'attachment:{filename}'] = f'data:{mime};base64,{base64}'\n",
    "\n",
    "# Fix up the HTML and write it to disk\n",
    "for src, base64 in images.items():\n",
    "    body = body.replace(f'src=\"{src}\"', f'src=\"{base64}\"')\n",
    "\n",
    "# Write HTML to file\n",
    "with open('index.html', 'w') as html_output_file:\n",
    "    html_output_file.write(body)"
   ]
  }
 ],
 "metadata": {
  "kernelspec": {
   "display_name": "tcc",
   "language": "python",
   "name": "python3"
  },
  "language_info": {
   "codemirror_mode": {
    "name": "ipython",
    "version": 3
   },
   "file_extension": ".py",
   "mimetype": "text/x-python",
   "name": "python",
   "nbconvert_exporter": "python",
   "pygments_lexer": "ipython3",
   "version": "3.11.6"
  },
  "orig_nbformat": 4
 },
 "nbformat": 4,
 "nbformat_minor": 2
}
